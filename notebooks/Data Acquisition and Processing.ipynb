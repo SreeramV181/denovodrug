{
 "cells": [
  {
   "cell_type": "markdown",
   "metadata": {},
   "source": [
    "# Imports"
   ]
  },
  {
   "cell_type": "code",
   "execution_count": 7,
   "metadata": {},
   "outputs": [],
   "source": [
    "from urllib.request import urlopen\n",
    "from urllib.error import HTTPError\n",
    "from molvs.standardize import Standardizer\n",
    "from rdkit import Chem\n",
    "import pandas as pd"
   ]
  },
  {
   "cell_type": "markdown",
   "metadata": {},
   "source": [
    "# Accessing Data Online"
   ]
  },
  {
   "cell_type": "code",
   "execution_count": null,
   "metadata": {},
   "outputs": [],
   "source": [
    "tranches = [] #List of dataframes where each df corresponds to different tranche\n",
    "\n",
    "with open(\"ZINC-downloader-2D-txt.txt\") as f:\n",
    "    line = f.readline()\n",
    "    while line:\n",
    "#         print(line)\n",
    "        try:\n",
    "            data = pd.read_csv(line, sep='\\t')\n",
    "            tranches.append(data)\n",
    "        except urllib.error.HTTPError as err:\n",
    "            print(\"{} couldn't be read\".format(line))\n",
    "        line = f.readline()\n",
    "    f.close()\n",
    "complete = pd.concat(tranches)"
   ]
  },
  {
   "cell_type": "code",
   "execution_count": null,
   "metadata": {},
   "outputs": [],
   "source": [
    "logp = complete[['smiles', 'logp']]"
   ]
  },
  {
   "cell_type": "markdown",
   "metadata": {},
   "source": [
    "# Data Processing"
   ]
  },
  {
   "cell_type": "code",
   "execution_count": 12,
   "metadata": {},
   "outputs": [
    {
     "name": "stdout",
     "output_type": "stream",
     "text": [
      "26\n",
      "39\n",
      "43\n",
      "44\n",
      "45\n",
      "46\n",
      "47\n",
      "48\n",
      "50\n",
      "51\n",
      "56\n",
      "59\n",
      "61\n",
      "70\n",
      "71\n",
      "72\n",
      "74\n",
      "75\n"
     ]
    }
   ],
   "source": [
    "max_len = 0\n",
    "data = pd.read_csv('logp_data.csv')\n",
    "for i in range(len(data.index)):\n",
    "    curr_len = len(data.iloc[i]['smiles'])\n",
    "    if curr_len > max_len:\n",
    "        print(curr_len)\n",
    "        max_len = curr_len"
   ]
  },
  {
   "cell_type": "code",
   "execution_count": null,
   "metadata": {},
   "outputs": [],
   "source": []
  }
 ],
 "metadata": {
  "kernelspec": {
   "display_name": "Python 3",
   "language": "python",
   "name": "python3"
  },
  "language_info": {
   "codemirror_mode": {
    "name": "ipython",
    "version": 3
   },
   "file_extension": ".py",
   "mimetype": "text/x-python",
   "name": "python",
   "nbconvert_exporter": "python",
   "pygments_lexer": "ipython3",
   "version": "3.6.7"
  }
 },
 "nbformat": 4,
 "nbformat_minor": 2
}
